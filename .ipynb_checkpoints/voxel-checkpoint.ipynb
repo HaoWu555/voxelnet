{
 "cells": [
  {
   "cell_type": "code",
   "execution_count": 1,
   "metadata": {},
   "outputs": [],
   "source": [
    "import tensorflow as tf\n",
    "import argparse\n",
    "import os\n",
    "from config import cfg\n",
    "from easydict import EasyDict\n",
    "from utils.kitti_loader import iterate_data\n",
    "from model.group_pointcloud import FeatureNet\n",
    "import numpy as np\n",
    "from model.rpn_1 import MiddleAndRPN"
   ]
  },
  {
   "cell_type": "code",
   "execution_count": 2,
   "metadata": {},
   "outputs": [],
   "source": [
    "parser=EasyDict()\n",
    "parser.i = 1\n",
    "parser.tag = 'Test1'\n",
    "parser.single_batch_size = 2\n",
    "parser.lr =0.001\n",
    "parser.al =1\n",
    "parser.output_path = './prediction'\n",
    "parser.v=False\n",
    "\n",
    "dataset_dir = cfg.DATA_DIR\n",
    "train_dir = os.path.join(cfg.DATA_DIR, 'training')\n",
    "val_dir = os.path.join(cfg.DATA_DIR, 'validation')\n",
    "log_dir = os.path.join('./log', parser.tag)\n",
    "save_model_dir = os.path.join('./save_model', parser.tag)\n",
    "os.makedirs(log_dir, exist_ok=True)\n",
    "os.makedirs(save_model_dir, exist_ok=True)"
   ]
  },
  {
   "cell_type": "code",
   "execution_count": 3,
   "metadata": {},
   "outputs": [],
   "source": [
    "batches=iterate_data(train_dir,batch_size=2)\n",
    "#tag,labels,vox_feature,vox_number,vox_coordinate,rgb,raw_lidar\n",
    "batch=next(batches)\n",
    "voxel_feature=batch[2]\n",
    "voxel_coordinate=batch[4]"
   ]
  },
  {
   "cell_type": "code",
   "execution_count": 4,
   "metadata": {
    "scrolled": true
   },
   "outputs": [],
   "source": [
    "A= tf.convert_to_tensor(voxel_coordinate)"
   ]
  },
  {
   "cell_type": "code",
   "execution_count": 5,
   "metadata": {},
   "outputs": [
    {
     "data": {
      "text/plain": [
       "<tf.Variable 'Variable:0' shape=(3,) dtype=float32, numpy=array([1., 2., 3.], dtype=float32)>"
      ]
     },
     "execution_count": 5,
     "metadata": {},
     "output_type": "execute_result"
    }
   ],
   "source": [
    "A=tf.Variable([1.,2.,3.])\n",
    "A"
   ]
  },
  {
   "cell_type": "code",
   "execution_count": 6,
   "metadata": {},
   "outputs": [
    {
     "data": {
      "text/plain": [
       "<tf.Tensor: id=13, shape=(1,), dtype=float32, numpy=array([1.], dtype=float32)>"
      ]
     },
     "execution_count": 6,
     "metadata": {},
     "output_type": "execute_result"
    }
   ],
   "source": [
    "tf.slice(A,[0],[1])"
   ]
  },
  {
   "cell_type": "code",
   "execution_count": 7,
   "metadata": {},
   "outputs": [
    {
     "data": {
      "text/plain": [
       "True"
      ]
     },
     "execution_count": 7,
     "metadata": {},
     "output_type": "execute_result"
    }
   ],
   "source": [
    "type(np.int32(voxel_coordinate.shape[1]))==np.int32"
   ]
  },
  {
   "cell_type": "code",
   "execution_count": 8,
   "metadata": {},
   "outputs": [
    {
     "name": "stdout",
     "output_type": "stream",
     "text": [
      "tag:<U6\n",
      "labels:object\n",
      "vox_feature:float32\n",
      "vox_number:int64\n",
      "vox_coordinate:int64\n",
      "rgb:uint8\n",
      "raw_lidar:float32\n"
     ]
    }
   ],
   "source": [
    "print(\"{}:{}\".format(\"tag\",batch[0].dtype))\n",
    "print(\"{}:{}\".format(\"labels\",batch[1].dtype))\n",
    "print(\"{}:{}\".format(\"vox_feature\",batch[2].dtype))\n",
    "print(\"{}:{}\".format(\"vox_number\",batch[3].dtype))\n",
    "print(\"{}:{}\".format(\"vox_coordinate\",batch[4].dtype))\n",
    "print(\"{}:{}\".format(\"rgb\",batch[5].dtype))\n",
    "print(\"{}:{}\".format(\"raw_lidar\",batch[6][0].dtype))"
   ]
  },
  {
   "cell_type": "code",
   "execution_count": 9,
   "metadata": {},
   "outputs": [
    {
     "data": {
      "text/plain": [
       "TensorShape([2, 10, 400, 352, 128])"
      ]
     },
     "execution_count": 9,
     "metadata": {},
     "output_type": "execute_result"
    }
   ],
   "source": [
    "featurenet=FeatureNet()\n",
    "A=featurenet(voxel_feature[0],voxel_coordinate[0],training=True,batch_size=2)\n",
    "output=A.outputs\n",
    "output.shape"
   ]
  },
  {
   "cell_type": "code",
   "execution_count": 10,
   "metadata": {},
   "outputs": [],
   "source": [
    "from utils.utils import *\n",
    "anchors = cal_anchors()\n",
    "pos_equal_one, neg_equal_one, targets = cal_rpn_target(batch[1], [cfg.FEATURE_HEIGHT,cfg.FEATURE_WIDTH], anchors)\n",
    "pos_equal_one[..., [0]].shape\n",
    "pos_equal_one_for_reg = np.concatenate([np.tile(pos_equal_one[..., [0]], 7), np.tile(pos_equal_one[..., [1]], 7)], axis=-1)\n",
    "pos_equal_one_sum = np.clip(np.sum(pos_equal_one, axis=(1, 2, 3)).reshape(-1, 1, 1, 1), a_min=1, a_max=None)\n",
    "neg_equal_one_sum = np.clip(np.sum(neg_equal_one, axis=(1, 2, 3)).reshape(-1, 1, 1, 1), a_min=1, a_max=None)\n",
    "info={\"pos_equal_one\":pos_equal_one,\"neg_equal_one\":neg_equal_one,\"targets\":tf.cast(targets,tf.float32),\n",
    "      \"pos_equal_one_for_reg\":pos_equal_one_for_reg,\"pos_equal_one_sum\":pos_equal_one_sum,\n",
    "      \"neg_equal_one_sum\":neg_equal_one_sum}"
   ]
  },
  {
   "cell_type": "code",
   "execution_count": 11,
   "metadata": {
    "scrolled": true
   },
   "outputs": [],
   "source": [
    "Model=MiddleAndRPN()\n",
    "model=Model(output,info)\n",
    "\n",
    "v=model.trainable_variables"
   ]
  },
  {
   "cell_type": "code",
   "execution_count": 12,
   "metadata": {
    "scrolled": true
   },
   "outputs": [
    {
     "name": "stdout",
     "output_type": "stream",
     "text": [
      "(2, 200, 176, 2)\n"
     ]
    },
    {
     "data": {
      "text/plain": [
       "array([[[[70400.]]],\n",
       "\n",
       "\n",
       "       [[[70374.]]]])"
      ]
     },
     "execution_count": 12,
     "metadata": {},
     "output_type": "execute_result"
    }
   ],
   "source": [
    "print(model.pos_equal_one.shape)\n",
    "model.cls_neg_loss.shape\n",
    "neg_equal_one_sum"
   ]
  },
  {
   "cell_type": "code",
   "execution_count": 13,
   "metadata": {},
   "outputs": [
    {
     "data": {
      "text/plain": [
       "<tf.Tensor: id=2393, shape=(4,), dtype=int32, numpy=array([  2, 200, 176,   2], dtype=int32)>"
      ]
     },
     "execution_count": 13,
     "metadata": {},
     "output_type": "execute_result"
    }
   ],
   "source": [
    "tf.convert_to_tensor(neg_equal_one.shape)"
   ]
  },
  {
   "cell_type": "code",
   "execution_count": 14,
   "metadata": {},
   "outputs": [],
   "source": [
    "def average_gradients(tower_grads):\n",
    "    # ref:\n",
    "    # https://github.com/tensorflow/models/blob/6db9f0282e2ab12795628de6200670892a8ad6ba/tutorials/image/cifar10/cifar10_multi_gpu_train.py#L103\n",
    "    # but only contains grads, no vars\n",
    "    average_grads = []\n",
    "    for grad_and_vars in zip(*tower_grads):\n",
    "        grads = []\n",
    "        for g in grad_and_vars:\n",
    "            # Add 0 dimension to the gradients to represent the tower.\n",
    "            expanded_g = tf.expand_dims(g, 0)\n",
    "\n",
    "            # Append on a 'tower' dimension which we will average over below.\n",
    "            grads.append(expanded_g)\n",
    "\n",
    "        # Average over the 'tower' dimension.\n",
    "        grad = tf.concat(axis=0, values=grads)\n",
    "        grad = tf.reduce_mean(input_tensor=grad, axis=0)\n",
    "\n",
    "        # Keep in mind that the Variables are redundant because they are shared\n",
    "        # across towers. So .. we will just return the first tower's pointer to\n",
    "        # the Variable.\n",
    "        grad_and_var = grad\n",
    "        average_grads.append(grad_and_var)\n",
    "    return average_grads"
   ]
  },
  {
   "cell_type": "code",
   "execution_count": 15,
   "metadata": {},
   "outputs": [],
   "source": [
    "batch = next(iterate_data(train_dir,batch_size=2,multi_gpu_sum=1))\n",
    "#batches = iterate_data(train_dir)\n",
    "#batch = next(batches)\n",
    "tag = batch[0]\n",
    "labels = batch[1]\n",
    "voxel_feature = batch[2]\n",
    "vox_number = batch[3] # original is int64\n",
    "voxel_coordinate =batch[4] # original is int64\n",
    "rgb = batch[5]\n",
    "raw_lidar = batch[6]"
   ]
  },
  {
   "cell_type": "code",
   "execution_count": 14,
   "metadata": {},
   "outputs": [
    {
     "name": "stdout",
     "output_type": "stream",
     "text": [
      "HHHA:0==new=>\n"
     ]
    },
    {
     "ename": "NameError",
     "evalue": "name 'self' is not defined",
     "output_type": "error",
     "traceback": [
      "\u001b[0;31m------------------------------------------------------------------------\u001b[0m",
      "\u001b[0;31mNameError\u001b[0m                              Traceback (most recent call last)",
      "\u001b[0;32m<ipython-input-14-a38f19f1f08a>\u001b[0m in \u001b[0;36m<module>\u001b[0;34m\u001b[0m\n\u001b[1;32m     13\u001b[0m         \u001b[0;32mreturn\u001b[0m \u001b[0mfunc\u001b[0m\u001b[0;34m\u001b[0m\u001b[0;34m\u001b[0m\u001b[0m\n\u001b[1;32m     14\u001b[0m \u001b[0;34m\u001b[0m\u001b[0m\n\u001b[0;32m---> 15\u001b[0;31m \u001b[0mA\u001b[0m \u001b[0;34m=\u001b[0m \u001b[0mClassA\u001b[0m\u001b[0;34m(\u001b[0m\u001b[0;34m)\u001b[0m\u001b[0;34m\u001b[0m\u001b[0;34m\u001b[0m\u001b[0m\n\u001b[0m\u001b[1;32m     16\u001b[0m \u001b[0;34m\u001b[0m\u001b[0m\n\u001b[1;32m     17\u001b[0m \u001b[0mprint\u001b[0m\u001b[0;34m(\u001b[0m\u001b[0;34m\"HHHH:0====>\"\u001b[0m\u001b[0;34m)\u001b[0m\u001b[0;34m\u001b[0m\u001b[0;34m\u001b[0m\u001b[0m\n",
      "\u001b[0;32m<ipython-input-14-a38f19f1f08a>\u001b[0m in \u001b[0;36m__new__\u001b[0;34m(cls, *args, **kwargs)\u001b[0m\n\u001b[1;32m      3\u001b[0m         \u001b[0mobject\u001b[0m \u001b[0;34m=\u001b[0m \u001b[0msuper\u001b[0m\u001b[0;34m(\u001b[0m\u001b[0mClassA\u001b[0m\u001b[0;34m,\u001b[0m \u001b[0mcls\u001b[0m\u001b[0;34m)\u001b[0m\u001b[0;34m.\u001b[0m\u001b[0m__new__\u001b[0m\u001b[0;34m(\u001b[0m\u001b[0mcls\u001b[0m\u001b[0;34m)\u001b[0m\u001b[0;34m\u001b[0m\u001b[0;34m\u001b[0m\u001b[0m\n\u001b[1;32m      4\u001b[0m         \u001b[0mprint\u001b[0m\u001b[0;34m(\u001b[0m\u001b[0;34m\"HHHA:0==new=>\"\u001b[0m\u001b[0;34m)\u001b[0m\u001b[0;34m\u001b[0m\u001b[0;34m\u001b[0m\u001b[0m\n\u001b[0;32m----> 5\u001b[0;31m         \u001b[0mself\u001b[0m\u001b[0;34m.\u001b[0m\u001b[0mA\u001b[0m\u001b[0;34m=\u001b[0m\u001b[0;36m0\u001b[0m\u001b[0;34m\u001b[0m\u001b[0;34m\u001b[0m\u001b[0m\n\u001b[0m\u001b[1;32m      6\u001b[0m         \u001b[0;32mreturn\u001b[0m \u001b[0mobject\u001b[0m\u001b[0;34m\u001b[0m\u001b[0;34m\u001b[0m\u001b[0m\n\u001b[1;32m      7\u001b[0m \u001b[0;34m\u001b[0m\u001b[0m\n",
      "\u001b[0;31mNameError\u001b[0m: name 'self' is not defined"
     ]
    }
   ],
   "source": [
    "\n",
    "class ClassA(object):\n",
    "    def __new__(cls, *args, **kwargs):\n",
    "        object = super(ClassA, cls).__new__(cls)\n",
    "        print(\"HHHA:0==new=>\")\n",
    "        return object\n",
    " \n",
    "    def __init__(self, *args, **kwargs):\n",
    "        self.A=0\n",
    "        print(\"HHHB:0==init=>\")\n",
    " \n",
    "    def __call__(self, func):\n",
    "        print(\"HHHC:0==call=>\")\n",
    "        return func\n",
    " \n",
    "A = ClassA()\n",
    " \n",
    "print(\"HHHH:0====>\")\n",
    " \n",
    "@ClassA()\n",
    "def hello():\n",
    "    print(slef.A)\n",
    "    print(\"HHHC:0===>hello\")\n",
    " \n",
    "print(\"HHHH:1====>\")\n",
    "hello()\n"
   ]
  },
  {
   "cell_type": "code",
   "execution_count": 33,
   "metadata": {},
   "outputs": [],
   "source": [
    "class RPN3D(object):\n",
    "    def __init__(self,cls=\"Car\",batch_size=1,learning_rate=0.001,max_gradient_norm=5.0,\n",
    "                 alpha=1.5,beta=1,training=False):\n",
    "        self.cls = cls\n",
    "        self.batch_size = batch_size\n",
    "        self.learning_rate = tf.Variable(float(learning_rate), trainable=False, dtype=tf.float32)\n",
    "        self.global_step = tf.Variable(1, trainable=False)\n",
    "        self.epoch = tf.Variable(0, trainable=False)\n",
    "        self.epoch_add_op = self.epoch.assign(self.epoch + 1)\n",
    "        self.alpha = alpha\n",
    "        self.max_gradient_norm = max_gradient_norm\n",
    "        self.beta = beta\n",
    "         \n",
    "        boundaries = [80, 120]\n",
    "        values = [ self.learning_rate, self.learning_rate * 0.1, self.learning_rate * 0.01 ]\n",
    "        self.lr = tf.compat.v1.train.piecewise_constant(self.epoch, boundaries, values)\n",
    "\n",
    "        #build graph\n",
    "        self.is_train=training\n",
    "        \n",
    "        self.vox_feature = []\n",
    "        self.vox_number = []\n",
    "        self.vox_coordinate = []\n",
    "        self.targets = []\n",
    "        self.pos_equal_one = []\n",
    "        self.pos_equal_one_sum = []\n",
    "        self.pos_equal_one_for_reg = []\n",
    "        self.neg_equal_one = []\n",
    "        self.neg_equal_one_sum = []\n",
    "        \n",
    "        self.delta_output = []\n",
    "        self.prob_output = []\n",
    "        self.opt = tf.keras.optimizers.Adam(learning_rate=self.lr)\n",
    "        self.gradient_norm = []\n",
    "        self.tower_grads = []\n",
    "        self.anchors = cal_anchors()\n",
    "        self.rpn = MiddleAndRPN()\n",
    "        self.feature = FeatureNet()\n",
    "    \n",
    "    #@tf.function\n",
    "    def train_step(self,batch):\n",
    "            tag = batch[0]\n",
    "            labels = batch[1]\n",
    "            voxel_feature = batch[2]\n",
    "            vox_number = tf.cast(batch[3],dtype=tf.int32) # original is int64\n",
    "            voxel_coordinate =tf.cast(batch[4],dtype=tf.int32) # original is int64\n",
    "            rgb = batch[5]\n",
    "            raw_lidar = batch[6]\n",
    "            # get from labels\n",
    "            pos_equal_one, neg_equal_one, targets = cal_rpn_target(labels, [cfg.FEATURE_HEIGHT,cfg.FEATURE_WIDTH], self.anchors)\n",
    "            pos_equal_one_for_reg = np.concatenate([np.tile(pos_equal_one[..., [0]], 7), np.tile(pos_equal_one[..., [1]], 7)], axis=-1)\n",
    "            pos_equal_one_sum = np.clip(np.sum(pos_equal_one, axis=(1, 2, 3)).reshape(-1, 1, 1, 1), a_min=1, a_max=None)\n",
    "            neg_equal_one_sum = np.clip(np.sum(neg_equal_one, axis=(1, 2, 3)).reshape(-1, 1, 1, 1), a_min=1, a_max=None)\n",
    "            info={\"pos_equal_one\":pos_equal_one,\"neg_equal_one\":neg_equal_one,\"targets\":tf.cast(targets,dtype=tf.float32),\n",
    "                  \"pos_equal_one_for_reg\":pos_equal_one_for_reg,\"pos_equal_one_sum\":pos_equal_one_sum,\n",
    "                  \"neg_equal_one_sum\":neg_equal_one_sum}\n",
    "\n",
    "            # model running\n",
    "            with tf.GradientTape() as tape:\n",
    "                # feature is initial address for saving class FeatureNet\n",
    "                self.feature=self.feature(voxel_feature[0],voxel_coordinate[0],training=self.is_train,batch_size=self.batch_size)\n",
    "                self.rpn=self.rpn(inputs=self.feature.outputs,info=info,alpha=self.alpha, beta=self.beta, training=self.is_train)            \n",
    "\n",
    "            #update the parametr\n",
    "            # list add A + B\n",
    "            #self.params = rpn.variables+feature.variables\n",
    "            self.loss = self.rpn.loss\n",
    "            self.trainable_params = self.rpn.trainable_variables+self.feature.trainable_variables\n",
    "            gradients = tape.gradient(self.loss,self.trainable_params)\n",
    "            # clip the gradients\n",
    "            clipped_gradients, gradient_norm = tf.clip_by_global_norm(gradients, self.max_gradient_norm)\n",
    "            self.opt.apply_gradients(zip(clipped_gradients,self.trainable_params))\n",
    "\n",
    "            # output\n",
    "            feature_output = self.feature.outputs\n",
    "            self.delta_output=self.rpn.delta_output\n",
    "            self.prob_output=self.rpn.prob_output\n",
    "                \n",
    "            # loss and grad\n",
    "            self.reg_loss = self.rpn.reg_loss\n",
    "            self.cls_loss = self.rpn.cls_loss\n",
    "            self.cls_pos_loss = self.rpn.cls_pos_loss_rec\n",
    "            self.cls_neg_loss = self.rpn.cls_neg_loss_rec\n",
    "\n",
    "            self.rpn_output_shape= self.rpn.output_shapes\n",
    "                \n",
    "            print(\"{}:{}\".format(\"loss\",self.loss))\n",
    "            print(\"{}:{}\".format(\"reg_loss\",self.reg_loss))\n",
    "            print(\"{}:{}\".format(\"cls_loss\",self.cls_loss))\n",
    "\n"
   ]
  },
  {
   "cell_type": "code",
   "execution_count": 34,
   "metadata": {},
   "outputs": [
    {
     "name": "stdout",
     "output_type": "stream",
     "text": [
      "loss:0.7260349988937378\n",
      "reg_loss:0.0\n",
      "cls_loss:0.7260349988937378\n",
      "loss:4.360203266143799\n",
      "reg_loss:1.787584900856018\n",
      "cls_loss:2.5726184844970703\n",
      "loss:26.847583770751953\n",
      "reg_loss:16.0035457611084\n",
      "cls_loss:10.844037055969238\n",
      "loss:49.05946350097656\n",
      "reg_loss:45.230010986328125\n",
      "cls_loss:3.829453468322754\n"
     ]
    }
   ],
   "source": [
    "model=RPN3D()\n",
    "for idx, batch in enumerate(iterate_data(train_dir,batch_size=1,multi_gpu_sum=1)):\n",
    "    if idx==4:\n",
    "        break\n",
    "    else:\n",
    "        model.train_step(batch)\n",
    "        #batches = iterate_data(train_dir)\n",
    "        #batch = next(batches)"
   ]
  },
  {
   "cell_type": "code",
   "execution_count": 21,
   "metadata": {
    "scrolled": true
   },
   "outputs": [
    {
     "name": "stdout",
     "output_type": "stream",
     "text": [
      "loss:0.7231188416481018\n",
      "loss:6.771699905395508\n",
      "loss:30.103702545166016\n",
      "loss:55.07005310058594\n"
     ]
    }
   ],
   "source": []
  },
  {
   "cell_type": "code",
   "execution_count": 19,
   "metadata": {},
   "outputs": [
    {
     "name": "stdout",
     "output_type": "stream",
     "text": [
      "conv1/kernel:0\n",
      "conv1/bias:0\n",
      "conv1/gamma:0\n",
      "conv1/beta:0\n",
      "conv2/kernel:0\n",
      "conv2/bias:0\n",
      "conv2/gamma:0\n",
      "conv2/beta:0\n",
      "conv3/kernel:0\n",
      "conv3/bias:0\n",
      "conv3/gamma:0\n",
      "conv3/beta:0\n",
      "conv4/kernel:0\n",
      "conv4/bias:0\n",
      "conv4/gamma:0\n",
      "conv4/beta:0\n",
      "conv5/kernel:0\n",
      "conv5/bias:0\n",
      "conv5/gamma:0\n",
      "conv5/beta:0\n",
      "conv6/kernel:0\n",
      "conv6/bias:0\n",
      "conv6/gamma:0\n",
      "conv6/beta:0\n",
      "conv7/kernel:0\n",
      "conv7/bias:0\n",
      "conv7/gamma:0\n",
      "conv7/beta:0\n",
      "deconv1/kernel:0\n",
      "deconv1/bias:0\n",
      "deconv1/gamma:0\n",
      "deconv1/beta:0\n",
      "conv8/kernel:0\n",
      "conv8/bias:0\n",
      "conv8/gamma:0\n",
      "conv8/beta:0\n",
      "conv9/kernel:0\n",
      "conv9/bias:0\n",
      "conv9/gamma:0\n",
      "conv9/beta:0\n",
      "conv10/kernel:0\n",
      "conv10/bias:0\n",
      "conv10/gamma:0\n",
      "conv10/beta:0\n",
      "conv11/kernel:0\n",
      "conv11/bias:0\n",
      "conv11/gamma:0\n",
      "conv11/beta:0\n",
      "conv12/kernel:0\n",
      "conv12/bias:0\n",
      "conv12/gamma:0\n",
      "conv12/beta:0\n",
      "conv13/kernel:0\n",
      "conv13/bias:0\n",
      "conv13/gamma:0\n",
      "conv13/beta:0\n",
      "deconv2/kernel:0\n",
      "deconv2/bias:0\n",
      "deconv2/gamma:0\n",
      "deconv2/beta:0\n",
      "conv14/kernel:0\n",
      "conv14/bias:0\n",
      "conv14/gamma:0\n",
      "conv14/beta:0\n",
      "conv15/kernel:0\n",
      "conv15/bias:0\n",
      "conv15/gamma:0\n",
      "conv15/beta:0\n",
      "conv16/kernel:0\n",
      "conv16/bias:0\n",
      "conv16/gamma:0\n",
      "conv16/beta:0\n",
      "conv17/kernel:0\n",
      "conv17/bias:0\n",
      "conv17/gamma:0\n",
      "conv17/beta:0\n",
      "conv18/kernel:0\n",
      "conv18/bias:0\n",
      "conv18/gamma:0\n",
      "conv18/beta:0\n",
      "conv19/kernel:0\n",
      "conv19/bias:0\n",
      "conv19/gamma:0\n",
      "conv19/beta:0\n",
      "deconv3/kernel:0\n",
      "deconv3/bias:0\n",
      "deconv3/gamma:0\n",
      "deconv3/beta:0\n",
      "score_pro/kernel:0\n",
      "score_pro/bias:0\n",
      "reg_pro/kernel:0\n",
      "reg_pro/bias:0\n",
      "VFE-1/dense/kernel:0\n",
      "VFE-1/dense/bias:0\n",
      "VFE-1/batch_norm/gamma:0\n",
      "VFE-1/batch_norm/beta:0\n",
      "VFE-2/dense/kernel:0\n",
      "VFE-2/dense/bias:0\n",
      "VFE-2/batch_norm/gamma:0\n",
      "VFE-2/batch_norm/beta:0\n"
     ]
    }
   ],
   "source": [
    "for i in model.trainable_params:\n",
    "    print(i.name)"
   ]
  },
  {
   "cell_type": "code",
   "execution_count": null,
   "metadata": {},
   "outputs": [],
   "source": [
    "i=0\n",
    "# batch: (tag,labels,vox_feature,vox_number,vox_coordinate,rgb,raw_lidar)\n",
    "for batch in iterate_data(train_dir):\n",
    "    i+=1\n",
    "    if i == 2:\n",
    "        break\n",
    "    else:\n",
    "        pass\n",
    "        #print(\"batch:\",batch[2])\n",
    "        # build model\n",
    "        #input data\n"
   ]
  },
  {
   "cell_type": "code",
   "execution_count": null,
   "metadata": {},
   "outputs": [],
   "source": []
  },
  {
   "cell_type": "code",
   "execution_count": null,
   "metadata": {},
   "outputs": [],
   "source": []
  },
  {
   "cell_type": "code",
   "execution_count": null,
   "metadata": {},
   "outputs": [],
   "source": []
  }
 ],
 "metadata": {
  "kernelspec": {
   "display_name": "Python 3",
   "language": "python",
   "name": "python3"
  },
  "language_info": {
   "codemirror_mode": {
    "name": "ipython",
    "version": 3
   },
   "file_extension": ".py",
   "mimetype": "text/x-python",
   "name": "python",
   "nbconvert_exporter": "python",
   "pygments_lexer": "ipython3",
   "version": "3.6.9"
  }
 },
 "nbformat": 4,
 "nbformat_minor": 2
}
