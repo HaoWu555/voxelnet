{
 "cells": [
  {
   "cell_type": "code",
   "execution_count": 1,
   "metadata": {},
   "outputs": [],
   "source": [
    "import tensorflow as tf\n",
    "import argparse\n",
    "import os\n",
    "from config import cfg\n",
    "from easydict import EasyDict\n",
    "from utils.kitti_loader import iterate_data\n",
    "from model.group_pointcloud import FeatureNet\n",
    "import numpy as np\n",
    "from model.rpn import MiddleAndRPN"
   ]
  },
  {
   "cell_type": "code",
   "execution_count": 2,
   "metadata": {},
   "outputs": [],
   "source": [
    "parser=EasyDict()\n",
    "parser.i = 1\n",
    "parser.tag = 'Test1'\n",
    "parser.single_batch_size = 2\n",
    "parser.lr =0.001\n",
    "parser.al =1\n",
    "parser.output_path = './prediction'\n",
    "parser.v=False\n",
    "\n",
    "dataset_dir = cfg.DATA_DIR\n",
    "train_dir = os.path.join(cfg.DATA_DIR, 'training')\n",
    "val_dir = os.path.join(cfg.DATA_DIR, 'validation')\n",
    "log_dir = os.path.join('./log', parser.tag)\n",
    "save_model_dir = os.path.join('./save_model', parser.tag)\n",
    "os.makedirs(log_dir, exist_ok=True)\n",
    "os.makedirs(save_model_dir, exist_ok=True)"
   ]
  },
  {
   "cell_type": "code",
   "execution_count": 3,
   "metadata": {},
   "outputs": [],
   "source": [
    "batches=iterate_data(train_dir,batch_size=2)\n",
    "#tag,labels,vox_feature,vox_number,vox_coordinate,rgb,raw_lidar\n",
    "batch=next(batches)\n",
    "voxel_feature=batch[2]\n",
    "voxel_coordinate=batch[4]"
   ]
  },
  {
   "cell_type": "code",
   "execution_count": 4,
   "metadata": {},
   "outputs": [
    {
     "name": "stdout",
     "output_type": "stream",
     "text": [
      "tag:['000000' '000001']\n",
      "labels:[list(['Pedestrian 0.00 0 -0.20 712.40 143.00 810.73 307.92 1.89 0.48 1.20 1.84 1.47 8.41 0.01\\n'])\n",
      " list(['Truck 0.00 0 -1.57 599.41 156.40 629.75 189.25 2.85 2.63 12.34 0.47 1.49 69.44 -1.56\\n', 'Car 0.00 0 1.85 387.63 181.54 423.81 203.12 1.67 1.87 3.69 -16.53 2.39 58.49 1.57\\n', 'Cyclist 0.00 3 -1.65 676.60 163.95 688.98 193.93 1.86 0.60 2.02 4.59 1.32 45.84 -1.55\\n', 'DontCare -1 -1 -10 503.89 169.71 590.61 190.13 -1 -1 -1 -1000 -1000 -1000 -10\\n', 'DontCare -1 -1 -10 511.35 174.96 527.81 187.45 -1 -1 -1 -1000 -1000 -1000 -10\\n', 'DontCare -1 -1 -10 532.37 176.35 542.68 185.27 -1 -1 -1 -1000 -1000 -1000 -10\\n', 'DontCare -1 -1 -10 559.62 175.83 575.40 183.15 -1 -1 -1 -1000 -1000 -1000 -10\\n'])]\n",
      "vox_number:[[2 5 9 ... 1 1 1]]\n",
      "raw_lidar:(115384, 4)\n"
     ]
    }
   ],
   "source": [
    "print(\"{}:{}\".format(\"tag\",batch[0]))\n",
    "print(\"{}:{}\".format(\"labels\",batch[1]))\n",
    "#print(\"{}:{}\".format(\"vox_feature\",batch[2]))\n",
    "print(\"{}:{}\".format(\"vox_number\",batch[3]))\n",
    "#print(\"{}:{}\".format(\"vox_coordinate\",batch[4]))\n",
    "#print(\"{}:{}\".format(\"rgb\",batch[5]))\n",
    "print(\"{}:{}\".format(\"raw_lidar\",batch[6][0].shape))"
   ]
  },
  {
   "cell_type": "code",
   "execution_count": 5,
   "metadata": {},
   "outputs": [
    {
     "data": {
      "text/plain": [
       "TensorShape([2, 10, 400, 352, 128])"
      ]
     },
     "execution_count": 5,
     "metadata": {},
     "output_type": "execute_result"
    }
   ],
   "source": [
    "A=FeatureNet(voxel_feature[0],voxel_coordinate[0],training=True,batch_size=2)\n",
    "output=A.outputs\n",
    "output.shape"
   ]
  },
  {
   "cell_type": "code",
   "execution_count": 6,
   "metadata": {},
   "outputs": [],
   "source": [
    "from utils.utils import *\n",
    "anchors = cal_anchors()\n",
    "pos_equal_one, neg_equal_one, targets = cal_rpn_target(batch[1], [cfg.FEATURE_HEIGHT,cfg.FEATURE_WIDTH], anchors)\n",
    "pos_equal_one[..., [0]].shape\n",
    "pos_equal_one_for_reg = np.concatenate([np.tile(pos_equal_one[..., [0]], 7), np.tile(pos_equal_one[..., [1]], 7)], axis=-1)\n",
    "pos_equal_one_sum = np.clip(np.sum(pos_equal_one, axis=(1, 2, 3)).reshape(-1, 1, 1, 1), a_min=1, a_max=None)\n",
    "neg_equal_one_sum = np.clip(np.sum(neg_equal_one, axis=(1, 2, 3)).reshape(-1, 1, 1, 1), a_min=1, a_max=None)\n",
    "info={\"pos_equal_one\":pos_equal_one,\"neg_equal_one\":neg_equal_one,\"targets\":targets,\n",
    "      \"pos_equal_one_for_reg\":pos_equal_one_for_reg,\"pos_equal_one_sum\":pos_equal_one_sum,\n",
    "      \"neg_equal_one_sum\":neg_equal_one_sum}"
   ]
  },
  {
   "cell_type": "code",
   "execution_count": 7,
   "metadata": {},
   "outputs": [],
   "source": [
    "model=MiddleAndRPN(output,info)"
   ]
  },
  {
   "cell_type": "code",
   "execution_count": 9,
   "metadata": {},
   "outputs": [
    {
     "name": "stdout",
     "output_type": "stream",
     "text": [
      "(2, 200, 176, 2)\n"
     ]
    },
    {
     "data": {
      "text/plain": [
       "array([[[[70400.]]],\n",
       "\n",
       "\n",
       "       [[[70374.]]]])"
      ]
     },
     "execution_count": 9,
     "metadata": {},
     "output_type": "execute_result"
    }
   ],
   "source": [
    "print(model.pos_equal_one.shape)\n",
    "model.cls_neg_loss.shape\n",
    "neg_equal_one_sum"
   ]
  },
  {
   "cell_type": "code",
   "execution_count": 16,
   "metadata": {},
   "outputs": [],
   "source": [
    "class RPN3D(object):\n",
    "    def __init__(self,cls=\"Car\",single_batch_size=1,learning_rate=0.001,max_gradient_norm=5.0,\n",
    "                 alpha=1.5,beta=1,training=False,avail_gpus=['0']):\n",
    "        self.cls = cls\n",
    "        self.single_batch_size = single_batch_size\n",
    "        self.learning_rate = tf.Variable(float(learning_rate), trainable=False, dtype=tf.float32)\n",
    "        self.global_step = tf.Variable(1, trainable=False)\n",
    "        self.epoch = tf.Variable(0, trainable=False)\n",
    "        self.epoch_add_op = self.epoch.assign(self.epoch + 1)\n",
    "        self.alpha = alpha\n",
    "        self.beta = beta\n",
    "        self.avail_gpus = avail_gpus\n",
    "         \n",
    "        boundaries = [80, 120]\n",
    "        values = [ self.learning_rate, self.learning_rate * 0.1, self.learning_rate * 0.01 ]\n",
    "        self.lr = tf.compat.v1.train.piecewise_constant(self.epoch, boundaries, values)\n",
    "\n",
    "        #build graph\n",
    "        self.is_train=training\n",
    "        \n",
    "        self.vox_feature = []\n",
    "        self.vox_number = []\n",
    "        self.vox_coordinate = []\n",
    "        self.targets = []\n",
    "        self.pos_equal_one = []\n",
    "        self.pos_equal_one_sum = []\n",
    "        self.pos_equal_one_for_reg = []\n",
    "        self.neg_equal_one = []\n",
    "        self.neg_equal_one_sum = []\n",
    "        \n",
    "        self.delta_output = []\n",
    "        self.prob_output = []\n",
    "        self.opt = tf.keras.optimizers.Adam(learning_rate=self.lr)\n",
    "        self.gradient_norm = []\n",
    "        self.tower_grads = []\n",
    "        \n",
    "    def __call__(self,a):\n",
    "        print(a)\n",
    "        \n",
    "        for idx, dev in enumerate(self.avail_gpus):\n",
    "            if idx==2:\n",
    "                break\n",
    "            else:\n",
    "                batches = iterate_data(train_dir)\n",
    "                batch = next(batches)\n",
    "                tag = batch[0]\n",
    "                labels = batch[1]\n",
    "                voxel_feature = batch[2]\n",
    "                print(voxel_feature.shape)\n",
    "                vox_number = batch[3]\n",
    "                voxel_coordinate = batch[4]\n",
    "                rgb = batch[5]\n",
    "                raw_lidar = batch[6]\n",
    "                # get from labels\n",
    "                pos_equal_one, neg_equal_one, targets = cal_rpn_target(labels, [cfg.FEATURE_HEIGHT,cfg.FEATURE_WIDTH], anchors)\n",
    "                pos_equal_one[..., [0]].shape\n",
    "                pos_equal_one_for_reg = np.concatenate([np.tile(pos_equal_one[..., [0]], 7), np.tile(pos_equal_one[..., [1]], 7)], axis=-1)\n",
    "                pos_equal_one_sum = np.clip(np.sum(pos_equal_one, axis=(1, 2, 3)).reshape(-1, 1, 1, 1), a_min=1, a_max=None)\n",
    "                neg_equal_one_sum = np.clip(np.sum(neg_equal_one, axis=(1, 2, 3)).reshape(-1, 1, 1, 1), a_min=1, a_max=None)\n",
    "                info={\"pos_equal_one\":pos_equal_one,\"neg_equal_one\":neg_equal_one,\"targets\":targets,\n",
    "                      \"pos_equal_one_for_reg\":pos_equal_one_for_reg,\"pos_equal_one_sum\":pos_equal_one_sum,\n",
    "                      \"neg_equal_one_sum\":neg_equal_one_sum}\n",
    "                # model running\n",
    "                @tf.function\n",
    "                feature=FeatureNet(voxel_feature[0],voxel_coordinate[0],training=True,batch_size=1)\n",
    "                rpn=MiddleAndRPN(inputs=feature.outputs,info=info,alpha=self.alpha, beta=self.beta, training=self.is_train)\n",
    "\n",
    "                # input\n",
    "                self.vox_feature.append(voxel_feature)\n",
    "                self.vox_number.append(vox_number)\n",
    "                self.vox_coordinate.append(feature.coordinate)\n",
    "                self.targets.append(targets)\n",
    "                self.pos_equal_one.append(pos_equal_one)\n",
    "                self.pos_equal_one_sum.append(pos_equal_one_sum)\n",
    "                self.pos_equal_one_for_reg.append(pos_equal_one_for_reg)\n",
    "                self.neg_equal_one.append(neg_equal_one)\n",
    "                self.neg_equal_one_sum.append(neg_equal_one_sum)\n",
    "                \n",
    "                # output\n",
    "                feature_output = feature.outputs\n",
    "                delta_output = rpn.delta_output\n",
    "                prob_output = rpn.prob_output\n",
    "                \n",
    "                # loss and grad\n",
    "                self.loss = rpn.loss\n",
    "                self.reg_loss = rpn.reg_loss\n",
    "                self.cls_loss = rpn.cls_loss\n",
    "                self.cls_pos_loss = rpn.cls_pos_loss_rec\n",
    "                self.cls_neg_loss = rpn.cls_neg_loss_rec"
   ]
  },
  {
   "cell_type": "code",
   "execution_count": 17,
   "metadata": {},
   "outputs": [
    {
     "name": "stdout",
     "output_type": "stream",
     "text": [
      "1\n",
      "(1, 10144, 35, 7)\n"
     ]
    }
   ],
   "source": [
    "model=RPN3D()\n",
    "model(1)"
   ]
  },
  {
   "cell_type": "code",
   "execution_count": 37,
   "metadata": {},
   "outputs": [],
   "source": [
    "i=0\n",
    "# batch: (tag,labels,vox_feature,vox_number,vox_coordinate,rgb,raw_lidar)\n",
    "for batch in iterate_data(train_dir):\n",
    "    i+=1\n",
    "    if i == 2:\n",
    "        break\n",
    "    else:\n",
    "        pass\n",
    "        #print(\"batch:\",batch[2])\n",
    "        # build model\n",
    "        #input data\n"
   ]
  },
  {
   "cell_type": "code",
   "execution_count": null,
   "metadata": {},
   "outputs": [],
   "source": []
  },
  {
   "cell_type": "code",
   "execution_count": null,
   "metadata": {},
   "outputs": [],
   "source": []
  },
  {
   "cell_type": "code",
   "execution_count": null,
   "metadata": {},
   "outputs": [],
   "source": []
  }
 ],
 "metadata": {
  "kernelspec": {
   "display_name": "Python 3",
   "language": "python",
   "name": "python3"
  },
  "language_info": {
   "codemirror_mode": {
    "name": "ipython",
    "version": 3
   },
   "file_extension": ".py",
   "mimetype": "text/x-python",
   "name": "python",
   "nbconvert_exporter": "python",
   "pygments_lexer": "ipython3",
   "version": "3.6.9"
  }
 },
 "nbformat": 4,
 "nbformat_minor": 2
}
